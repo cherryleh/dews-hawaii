{
 "cells": [
  {
   "cell_type": "code",
   "execution_count": 1,
   "id": "e3cbb975",
   "metadata": {},
   "outputs": [],
   "source": [
    "import pandas as pd\n",
    "import requests\n",
    "\n",
    "import geopandas as gpd\n",
    "import pandas as pd\n",
    "from rasterstats import zonal_stats\n",
    "import glob\n",
    "import os"
   ]
  },
  {
   "cell_type": "code",
   "execution_count": 2,
   "id": "fee3369e",
   "metadata": {},
   "outputs": [
    {
     "name": "stdout",
     "output_type": "stream",
     "text": [
      "API Key: 55a064fc7f01134ea1d951c30a610354\n"
     ]
    }
   ],
   "source": [
    "import re\n",
    "\n",
    "def get_key_from_environment(file_path: str, key: str) -> str | None:\n",
    "    \"\"\"\n",
    "    Extracts a key from Angular's environment.ts file.\n",
    "\n",
    "    Args:\n",
    "        file_path: Path to environment.ts\n",
    "        key: The key name (e.g., \"apiKey\")\n",
    "\n",
    "    Returns:\n",
    "        The value as a string, or None if not found.\n",
    "    \"\"\"\n",
    "    with open(file_path, \"r\", encoding=\"utf-8\") as f:\n",
    "        content = f.read()\n",
    "\n",
    "    # Regex to match key: 'value' or key: \"value\"\n",
    "    pattern = rf'{key}\\s*:\\s*[\\'\"]([^\\'\"]+)[\\'\"]'\n",
    "    match = re.search(pattern, content)\n",
    "\n",
    "    return match.group(1) if match else None\n",
    "\n",
    "\n",
    "# Example usage\n",
    "file_path = \"../src/environments/environment.ts\"\n",
    "api_key = get_key_from_environment(file_path, \"apiToken\")\n",
    "\n",
    "print(\"API Key:\", api_key)\n"
   ]
  },
  {
   "cell_type": "code",
   "execution_count": 3,
   "id": "fd6bb294",
   "metadata": {},
   "outputs": [],
   "source": [
    "header = {\n",
    "    \"Authorization\": f\"Bearer {api_key}\",\n",
    "    \"Content-Type\": \"application/json\"\n",
    "}"
   ]
  },
  {
   "cell_type": "code",
   "execution_count": 10,
   "id": "f62e111c",
   "metadata": {},
   "outputs": [
    {
     "name": "stdout",
     "output_type": "stream",
     "text": [
      "Fetching https://api.hcdp.ikewai.org/raster?datatype=spi&period=month&timescale=timescale001&date=2024-09 ...\n",
      "Fetching https://api.hcdp.ikewai.org/raster?datatype=spi&period=month&timescale=timescale001&date=2024-10 ...\n",
      "Fetching https://api.hcdp.ikewai.org/raster?datatype=spi&period=month&timescale=timescale001&date=2024-11 ...\n",
      "Fetching https://api.hcdp.ikewai.org/raster?datatype=spi&period=month&timescale=timescale001&date=2024-12 ...\n",
      "Fetching https://api.hcdp.ikewai.org/raster?datatype=spi&period=month&timescale=timescale001&date=2025-01 ...\n",
      "Fetching https://api.hcdp.ikewai.org/raster?datatype=spi&period=month&timescale=timescale001&date=2025-02 ...\n",
      "Fetching https://api.hcdp.ikewai.org/raster?datatype=spi&period=month&timescale=timescale001&date=2025-03 ...\n",
      "Fetching https://api.hcdp.ikewai.org/raster?datatype=spi&period=month&timescale=timescale001&date=2025-04 ...\n",
      "Fetching https://api.hcdp.ikewai.org/raster?datatype=spi&period=month&timescale=timescale001&date=2025-05 ...\n",
      "Fetching https://api.hcdp.ikewai.org/raster?datatype=spi&period=month&timescale=timescale001&date=2025-06 ...\n",
      "Fetching https://api.hcdp.ikewai.org/raster?datatype=spi&period=month&timescale=timescale001&date=2025-07 ...\n",
      "Fetching https://api.hcdp.ikewai.org/raster?datatype=spi&period=month&timescale=timescale001&date=2025-08 ...\n"
     ]
    }
   ],
   "source": [
    "from datetime import datetime\n",
    "from dateutil.relativedelta import relativedelta\n",
    "\n",
    "scale = 1\n",
    "start_date = datetime(2024, 9, 1)   # Sept 2024\n",
    "end_date = datetime(2025, 8, 1)     # Aug 2025\n",
    "\n",
    "# Loop over months\n",
    "date = start_date\n",
    "while date <= end_date:\n",
    "    date_str = date.strftime(\"%Y-%m\")\n",
    "    url = f\"https://api.hcdp.ikewai.org/raster?datatype=spi&period=month&timescale=timescale{scale:03d}&date={date_str}\"\n",
    "    \n",
    "    print(f\"Fetching {url} ...\")\n",
    "    res = requests.get(url, headers=header)\n",
    "    \n",
    "    if res.status_code == 200:\n",
    "        file = f\"./data/spi{scale:03d}_{date_str}.tif\"\n",
    "        with open(file, \"wb\") as f:\n",
    "            f.write(res.content)\n",
    "    \n",
    "    # Move to next month\n",
    "    date += relativedelta(months=1)"
   ]
  },
  {
   "cell_type": "code",
   "execution_count": null,
   "id": "f350ae0c",
   "metadata": {},
   "outputs": [],
   "source": [
    "\n",
    "\n",
    "shapefile = \"../public/hawaii_climate_divisions.shp\"\n",
    "\n",
    "raster_folder = \"./data\"\n",
    "\n",
    "gdf = gpd.read_file(shapefile)\n",
    "\n",
    "id_col = \"name\"  \n",
    "\n",
    "records = []\n",
    "\n",
    "for tif in sorted(glob.glob(os.path.join(raster_folder, \"spi*.tif\"))):\n",
    "    # Extract date from filename (spi001_2024-09.tif → 2024-09)\n",
    "    date = os.path.basename(tif).split(\"_\")[1].replace(\".tif\", \"\")\n",
    "    \n",
    "    # Zonal statistics\n",
    "    stats = zonal_stats(\n",
    "        vectors=gdf,\n",
    "        raster=tif,\n",
    "        stats=[\"mean\"],\n",
    "        geojson_out=False,\n",
    "        nodata=-9999\n",
    "    )\n",
    "    \n",
    "    # Store results\n",
    "    for div, s in zip(gdf[id_col], stats):\n",
    "        records.append({\n",
    "            \"division\": div,\n",
    "            \"date\": date,\n",
    "            \"mean_spi\": s[\"mean\"]\n",
    "        })\n",
    "\n",
    "df = pd.DataFrame(records)\n",
    "df = df.pivot(index=\"division\", columns=\"date\", values=\"mean_spi\")\n",
    "df = df.reindex(sorted(df.columns), axis=1)\n",
    "df.to_csv(\"division_spi_timeseries.csv\")\n",
    "\n"
   ]
  },
  {
   "cell_type": "code",
   "execution_count": 36,
   "id": "a73dbbdc",
   "metadata": {},
   "outputs": [
    {
     "name": "stdout",
     "output_type": "stream",
     "text": [
      "date        2024-09   2024-10   2024-11   2024-12   2025-01   2025-02  \\\n",
      "division                                                                \n",
      "Hawaiʻi    0.164475  0.039084  0.615427 -1.762296  0.516474 -1.215282   \n",
      "Kahoolawe -0.560859 -0.067711 -0.315173 -0.980359  1.056914 -0.649988   \n",
      "Kauaʻi    -0.738852 -0.171122 -0.914319 -1.164958  0.180476 -0.874774   \n",
      "Lānaʻi    -0.370052 -0.245773 -0.757944 -1.625310  0.879548 -1.001471   \n",
      "Maui      -0.602870 -0.045850 -0.911720 -1.758803  1.194903 -1.549807   \n",
      "Molokaʻi  -0.960090 -0.435848 -0.405934 -1.657838  0.940091 -1.092378   \n",
      "Oʻahu     -1.126451 -0.328286 -0.569652 -1.470650  1.172144 -1.042343   \n",
      "\n",
      "date        2025-03   2025-04   2025-05   2025-06   2025-07   2025-08  \n",
      "division                                                               \n",
      "Hawaiʻi   -0.105839 -0.209279 -0.126939  0.233570 -0.522495 -0.758712  \n",
      "Kahoolawe -0.726587  2.042276 -0.700550  0.171366 -0.556886 -0.535833  \n",
      "Kauaʻi    -0.754501  1.323397  0.633320  0.085576 -0.371316 -1.376802  \n",
      "Lānaʻi    -0.344207  1.098010 -0.620314 -0.938494 -0.616955 -0.827838  \n",
      "Maui      -1.098805  0.149581 -0.705378 -0.809284 -0.676376 -1.111542  \n",
      "Molokaʻi  -1.148683 -0.059361 -0.646680 -0.400107 -0.973455 -0.740672  \n",
      "Oʻahu     -0.544678  1.031631  0.377174 -0.515001 -0.366695 -1.787031  \n"
     ]
    }
   ],
   "source": [
    "shapefile = \"../public/Coastline.shp\"\n",
    "\n",
    "raster_folder = \"./data\"\n",
    "\n",
    "gdf = gpd.read_file(shapefile)\n",
    "\n",
    "id_col = \"isle\"  \n",
    "\n",
    "records = []\n",
    "\n",
    "for tif in sorted(glob.glob(os.path.join(raster_folder, \"spi*.tif\"))):\n",
    "    # Extract date from filename (spi001_2024-09.tif → 2024-09)\n",
    "    date = os.path.basename(tif).split(\"_\")[1].replace(\".tif\", \"\")\n",
    "    \n",
    "    # Zonal statistics\n",
    "    stats = zonal_stats(\n",
    "        vectors=gdf,\n",
    "        raster=tif,\n",
    "        stats=[\"mean\"],\n",
    "        geojson_out=False,\n",
    "        nodata=-9999\n",
    "    )\n",
    "    \n",
    "    # Store results\n",
    "    for div, s in zip(gdf[id_col], stats):\n",
    "        records.append({\n",
    "            \"division\": div,\n",
    "            \"date\": date,\n",
    "            \"mean_spi\": s[\"mean\"]\n",
    "        })\n",
    "\n",
    "df = pd.DataFrame(records)\n",
    "df = df.pivot(index=\"division\", columns=\"date\", values=\"mean_spi\")\n",
    "df = df.reindex(sorted(df.columns), axis=1)\n",
    "df.to_csv(\"../public/island_spi_timeseries.csv\")\n",
    "print(df)\n"
   ]
  },
  {
   "cell_type": "code",
   "execution_count": null,
   "id": "8761004e",
   "metadata": {},
   "outputs": [],
   "source": []
  },
  {
   "cell_type": "code",
   "execution_count": 5,
   "id": "44d7542f",
   "metadata": {},
   "outputs": [
    {
     "name": "stdout",
     "output_type": "stream",
     "text": [
      "date       state   2024-09   2024-10   2024-11   2024-12   2025-01   2025-02  \\\n",
      "value  statewide -0.185488 -0.050791  0.115566 -1.668572  0.656251 -1.193424   \n",
      "\n",
      "date    2025-03   2025-04   2025-05   2025-06   2025-07   2025-08  \n",
      "value -0.371624  0.136254 -0.114843 -0.023033 -0.532988 -0.950657  \n"
     ]
    }
   ],
   "source": [
    "shapefile = \"../public/Coastline.shp\"\n",
    "raster_folder = \"./data\"\n",
    "\n",
    "# Load shapefile and dissolve to one feature (statewide)\n",
    "gdf = gpd.read_file(shapefile)\n",
    "gdf_statewide = gdf.dissolve()  # merges all polygons into one\n",
    "\n",
    "records = []\n",
    "\n",
    "for tif in sorted(glob.glob(os.path.join(raster_folder, \"spi*.tif\"))):\n",
    "    # Extract date from filename (spi001_2024-09.tif → 2024-09)\n",
    "    date = os.path.basename(tif).split(\"_\")[1].replace(\".tif\", \"\")\n",
    "    \n",
    "    # Compute zonal stats for the dissolved geometry\n",
    "    stats = zonal_stats(\n",
    "        vectors=gdf_statewide,\n",
    "        raster=tif,\n",
    "        stats=[\"mean\"],\n",
    "        geojson_out=False,\n",
    "        nodata=-9999\n",
    "    )\n",
    "    \n",
    "    records.append({\n",
    "        \"date\": date,\n",
    "        \"value\": stats[0][\"mean\"]\n",
    "    })\n",
    "\n",
    "\n",
    "# Pivot to wide format: one row (statewide), months as columns\n",
    "df = pd.DataFrame(records).set_index(\"date\").T\n",
    "df.insert(0, \"state\", \"statewide\")  # add proper state column\n",
    "df.to_csv(\"../public/statewide_spi_timeseries.csv\", index=False)\n",
    "\n",
    "print(df)"
   ]
  },
  {
   "cell_type": "code",
   "execution_count": null,
   "id": "ebcd828c",
   "metadata": {},
   "outputs": [],
   "source": []
  }
 ],
 "metadata": {
  "kernelspec": {
   "display_name": "mesonetenv",
   "language": "python",
   "name": "python3"
  },
  "language_info": {
   "codemirror_mode": {
    "name": "ipython",
    "version": 3
   },
   "file_extension": ".py",
   "mimetype": "text/x-python",
   "name": "python",
   "nbconvert_exporter": "python",
   "pygments_lexer": "ipython3",
   "version": "3.11.11"
  }
 },
 "nbformat": 4,
 "nbformat_minor": 5
}
