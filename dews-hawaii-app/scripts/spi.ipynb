{
 "cells": [
  {
   "cell_type": "code",
   "execution_count": 1,
   "id": "e3cbb975",
   "metadata": {},
   "outputs": [],
   "source": [
    "import pandas as pd\n",
    "import requests\n",
    "\n",
    "import geopandas as gpd\n",
    "import pandas as pd\n",
    "from rasterstats import zonal_stats\n",
    "import glob\n",
    "import os"
   ]
  },
  {
   "cell_type": "code",
   "execution_count": 2,
   "id": "fee3369e",
   "metadata": {},
   "outputs": [
    {
     "name": "stdout",
     "output_type": "stream",
     "text": [
      "API Key: 55a064fc7f01134ea1d951c30a610354\n"
     ]
    }
   ],
   "source": [
    "import re\n",
    "\n",
    "def get_key_from_environment(file_path: str, key: str) -> str | None:\n",
    "    \"\"\"\n",
    "    Extracts a key from Angular's environment.ts file.\n",
    "\n",
    "    Args:\n",
    "        file_path: Path to environment.ts\n",
    "        key: The key name (e.g., \"apiKey\")\n",
    "\n",
    "    Returns:\n",
    "        The value as a string, or None if not found.\n",
    "    \"\"\"\n",
    "    with open(file_path, \"r\", encoding=\"utf-8\") as f:\n",
    "        content = f.read()\n",
    "\n",
    "    # Regex to match key: 'value' or key: \"value\"\n",
    "    pattern = rf'{key}\\s*:\\s*[\\'\"]([^\\'\"]+)[\\'\"]'\n",
    "    match = re.search(pattern, content)\n",
    "\n",
    "    return match.group(1) if match else None\n",
    "\n",
    "\n",
    "# Example usage\n",
    "file_path = \"../src/environments/environment.ts\"\n",
    "api_key = get_key_from_environment(file_path, \"apiToken\")\n",
    "\n",
    "print(\"API Key:\", api_key)\n"
   ]
  },
  {
   "cell_type": "code",
   "execution_count": 3,
   "id": "fd6bb294",
   "metadata": {},
   "outputs": [],
   "source": [
    "header = {\n",
    "    \"Authorization\": f\"Bearer {api_key}\",\n",
    "    \"Content-Type\": \"application/json\"\n",
    "}"
   ]
  },
  {
   "cell_type": "code",
   "execution_count": 20,
   "id": "f62e111c",
   "metadata": {},
   "outputs": [
    {
     "name": "stdout",
     "output_type": "stream",
     "text": [
      "Fetching https://api.hcdp.ikewai.org/raster?datatype=spi&period=month&timescale=timescale012&date=2024-09 ...\n",
      "Fetching https://api.hcdp.ikewai.org/raster?datatype=spi&period=month&timescale=timescale012&date=2024-10 ...\n",
      "Fetching https://api.hcdp.ikewai.org/raster?datatype=spi&period=month&timescale=timescale012&date=2024-11 ...\n",
      "Fetching https://api.hcdp.ikewai.org/raster?datatype=spi&period=month&timescale=timescale012&date=2024-12 ...\n",
      "Fetching https://api.hcdp.ikewai.org/raster?datatype=spi&period=month&timescale=timescale012&date=2025-01 ...\n",
      "Fetching https://api.hcdp.ikewai.org/raster?datatype=spi&period=month&timescale=timescale012&date=2025-02 ...\n",
      "Fetching https://api.hcdp.ikewai.org/raster?datatype=spi&period=month&timescale=timescale012&date=2025-03 ...\n",
      "Fetching https://api.hcdp.ikewai.org/raster?datatype=spi&period=month&timescale=timescale012&date=2025-04 ...\n",
      "Fetching https://api.hcdp.ikewai.org/raster?datatype=spi&period=month&timescale=timescale012&date=2025-05 ...\n",
      "Fetching https://api.hcdp.ikewai.org/raster?datatype=spi&period=month&timescale=timescale012&date=2025-06 ...\n",
      "Fetching https://api.hcdp.ikewai.org/raster?datatype=spi&period=month&timescale=timescale012&date=2025-07 ...\n",
      "Fetching https://api.hcdp.ikewai.org/raster?datatype=spi&period=month&timescale=timescale012&date=2025-08 ...\n"
     ]
    }
   ],
   "source": [
    "from datetime import datetime\n",
    "from dateutil.relativedelta import relativedelta\n",
    "\n",
    "scale = 12\n",
    "start_date = datetime(2024, 9, 1)   # Sept 2024\n",
    "end_date = datetime(2025, 8, 1)     # Aug 2025\n",
    "\n",
    "# Loop over months\n",
    "date = start_date\n",
    "while date <= end_date:\n",
    "    date_str = date.strftime(\"%Y-%m\")\n",
    "    url = f\"https://api.hcdp.ikewai.org/raster?datatype=spi&period=month&timescale=timescale{scale:03d}&date={date_str}\"\n",
    "    \n",
    "    print(f\"Fetching {url} ...\")\n",
    "    res = requests.get(url, headers=header)\n",
    "    \n",
    "    if res.status_code == 200:\n",
    "        file = f\"./data/spi{scale:03d}_{date_str}.tif\"\n",
    "        with open(file, \"wb\") as f:\n",
    "            f.write(res.content)\n",
    "    \n",
    "    # Move to next month\n",
    "    date += relativedelta(months=1)"
   ]
  },
  {
   "cell_type": "code",
   "execution_count": 21,
   "id": "f350ae0c",
   "metadata": {},
   "outputs": [],
   "source": [
    "shapefile = \"../public/hawaii_climate_divisions.shp\"\n",
    "\n",
    "raster_folder = \"./data\"\n",
    "\n",
    "gdf = gpd.read_file(shapefile)\n",
    "\n",
    "id_col = \"name\"  \n",
    "\n",
    "records = []\n",
    "\n",
    "for tif in sorted(glob.glob(os.path.join(raster_folder, f\"spi{scale:03d}*.tif\"))):\n",
    "    # Extract date from filename (spi001_2024-09.tif → 2024-09)\n",
    "    date = os.path.basename(tif).split(\"_\")[1].replace(\".tif\", \"\")\n",
    "    \n",
    "    # Zonal statistics\n",
    "    stats = zonal_stats(\n",
    "        vectors=gdf,\n",
    "        raster=tif,\n",
    "        stats=[\"mean\"],\n",
    "        geojson_out=False,\n",
    "        nodata=-9999\n",
    "    )\n",
    "    \n",
    "    # Store results\n",
    "    for div, s in zip(gdf[id_col], stats):\n",
    "        records.append({\n",
    "            \"division\": div,\n",
    "            \"date\": date,\n",
    "            \"mean_spi\": s[\"mean\"]\n",
    "        })\n",
    "\n",
    "df = pd.DataFrame(records)\n",
    "df = df.pivot(index=\"division\", columns=\"date\", values=\"mean_spi\")\n",
    "df = df.reindex(sorted(df.columns), axis=1)\n",
    "df.to_csv(f\"../public/division_spi{scale}.csv\")\n",
    "\n"
   ]
  },
  {
   "cell_type": "code",
   "execution_count": 22,
   "id": "a73dbbdc",
   "metadata": {},
   "outputs": [
    {
     "name": "stdout",
     "output_type": "stream",
     "text": [
      "date        2024-09   2024-10   2024-11   2024-12   2025-01   2025-02  \\\n",
      "division                                                                \n",
      "Hawaiʻi   -0.037881  0.119707  0.156255  0.029552  0.153153  0.034498   \n",
      "Kahoolawe -0.139777 -0.032876 -0.204780 -0.281347 -0.506336 -0.530695   \n",
      "Kauaʻi     0.296000  0.232871 -0.212814 -0.599307 -0.768473 -0.859197   \n",
      "Lānaʻi    -0.126588 -0.045729 -0.234460 -0.373994 -0.823798 -0.897692   \n",
      "Maui      -0.508126 -0.303986 -0.468384 -0.689602 -0.970109 -1.112548   \n",
      "Molokaʻi  -0.215129 -0.137697 -0.291784 -0.514934 -0.797169 -0.941964   \n",
      "Oʻahu      0.251069  0.466929  0.185043 -0.173402 -0.133351 -0.257141   \n",
      "\n",
      "date        2025-03   2025-04   2025-05   2025-06   2025-07   2025-08  \n",
      "division                                                               \n",
      "Hawaiʻi    0.190834  0.182623 -0.052502 -0.007167 -0.046251 -0.683822  \n",
      "Kahoolawe -0.437860 -0.150719 -0.209612 -0.212079 -0.206543 -0.320421  \n",
      "Kauaʻi    -0.639868 -1.425405 -1.558343 -1.472391 -1.351634 -1.262945  \n",
      "Lānaʻi    -0.639938 -0.557560 -0.664799 -0.645653 -0.635198 -0.808631  \n",
      "Maui      -0.950446 -0.901679 -1.032201 -1.054337 -1.034700 -1.377348  \n",
      "Molokaʻi  -0.832270 -0.906089 -1.046686 -1.016598 -0.998548 -1.209971  \n",
      "Oʻahu      0.013671 -0.067839 -0.953039 -0.926734 -0.867430 -1.088195  \n"
     ]
    }
   ],
   "source": [
    "shapefile = \"../public/Coastline.shp\"\n",
    "\n",
    "raster_folder = \"./data\"\n",
    "\n",
    "gdf = gpd.read_file(shapefile)\n",
    "\n",
    "id_col = \"isle\"  \n",
    "\n",
    "records = []\n",
    "\n",
    "for tif in sorted(glob.glob(os.path.join(raster_folder, f\"spi{scale:03d}*.tif\"))):\n",
    "    # Extract date from filename (spi001_2024-09.tif → 2024-09)\n",
    "    date = os.path.basename(tif).split(\"_\")[1].replace(\".tif\", \"\")\n",
    "    \n",
    "    # Zonal statistics\n",
    "    stats = zonal_stats(\n",
    "        vectors=gdf,\n",
    "        raster=tif,\n",
    "        stats=[\"mean\"],\n",
    "        geojson_out=False,\n",
    "        nodata=-9999\n",
    "    )\n",
    "    \n",
    "    # Store results\n",
    "    for div, s in zip(gdf[id_col], stats):\n",
    "        records.append({\n",
    "            \"division\": div,\n",
    "            \"date\": date,\n",
    "            \"mean_spi\": s[\"mean\"]\n",
    "        })\n",
    "\n",
    "df = pd.DataFrame(records)\n",
    "df = df.pivot(index=\"division\", columns=\"date\", values=\"mean_spi\")\n",
    "df = df.reindex(sorted(df.columns), axis=1)\n",
    "df.to_csv(f\"../public/island_spi{scale}.csv\")\n",
    "print(df)\n"
   ]
  },
  {
   "cell_type": "code",
   "execution_count": 23,
   "id": "44d7542f",
   "metadata": {},
   "outputs": [
    {
     "name": "stdout",
     "output_type": "stream",
     "text": [
      "date       state   2024-09   2024-10   2024-11   2024-12   2025-01   2025-02  \\\n",
      "value  statewide -0.045008  0.098565  0.024834 -0.161592 -0.150209 -0.269035   \n",
      "\n",
      "date    2025-03   2025-04   2025-05   2025-06  2025-07   2025-08  \n",
      "value -0.095722 -0.171698 -0.439413 -0.401593 -0.40669 -0.875027  \n"
     ]
    }
   ],
   "source": [
    "#statewide\n",
    "shapefile = \"../public/Coastline.shp\"\n",
    "raster_folder = \"./data\"\n",
    "\n",
    "# Load shapefile and dissolve to one feature (statewide)\n",
    "gdf = gpd.read_file(shapefile)\n",
    "gdf_statewide = gdf.dissolve()  # merges all polygons into one\n",
    "\n",
    "records = []\n",
    "\n",
    "for tif in sorted(glob.glob(os.path.join(raster_folder, f\"spi{scale:03d}*.tif\"))):\n",
    "    # Extract date from filename (spi001_2024-09.tif → 2024-09)\n",
    "    date = os.path.basename(tif).split(\"_\")[1].replace(\".tif\", \"\")\n",
    "    \n",
    "    # Compute zonal stats for the dissolved geometry\n",
    "    stats = zonal_stats(\n",
    "        vectors=gdf_statewide,\n",
    "        raster=tif,\n",
    "        stats=[\"mean\"],\n",
    "        geojson_out=False,\n",
    "        nodata=-9999\n",
    "    )\n",
    "    \n",
    "    records.append({\n",
    "        \"date\": date,\n",
    "        \"value\": stats[0][\"mean\"]\n",
    "    })\n",
    "\n",
    "\n",
    "# Pivot to wide format: one row (statewide), months as columns\n",
    "df = pd.DataFrame(records).set_index(\"date\").T\n",
    "df.insert(0, \"state\", \"statewide\")  # add proper state column\n",
    "df.to_csv(f\"../public/statewide_spi{scale}.csv\", index=False)\n",
    "\n",
    "print(df)"
   ]
  },
  {
   "cell_type": "code",
   "execution_count": null,
   "id": "ebcd828c",
   "metadata": {},
   "outputs": [],
   "source": []
  }
 ],
 "metadata": {
  "kernelspec": {
   "display_name": "mesonetenv",
   "language": "python",
   "name": "python3"
  },
  "language_info": {
   "codemirror_mode": {
    "name": "ipython",
    "version": 3
   },
   "file_extension": ".py",
   "mimetype": "text/x-python",
   "name": "python",
   "nbconvert_exporter": "python",
   "pygments_lexer": "ipython3",
   "version": "3.11.11"
  }
 },
 "nbformat": 4,
 "nbformat_minor": 5
}
